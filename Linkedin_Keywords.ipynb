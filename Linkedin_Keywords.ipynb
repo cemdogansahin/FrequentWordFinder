{
 "cells": [
  {
   "cell_type": "code",
   "execution_count": 1,
   "metadata": {},
   "outputs": [
    {
     "data": {
      "text/plain": [
       "[('research', 25),\n",
       " ('innovation', 20),\n",
       " ('design', 19),\n",
       " ('energy', 19),\n",
       " ('experience', 18),\n",
       " ('', 16),\n",
       " ('system', 16),\n",
       " ('able', 15),\n",
       " ('analytics', 13),\n",
       " ('sustainability', 12),\n",
       " ('data', 12),\n",
       " ('engineering', 12),\n",
       " ('systems', 12),\n",
       " ('building', 12),\n",
       " ('product', 10),\n",
       " ('management', 9),\n",
       " ('portfolio', 9),\n",
       " ('bosch', 9),\n",
       " ('learning', 9),\n",
       " ('development', 9),\n",
       " ('pitching', 8),\n",
       " ('team', 8),\n",
       " ('working', 8),\n",
       " ('relevant', 8),\n",
       " ('work', 7),\n",
       " ('communication', 7),\n",
       " ('machine', 7),\n",
       " ('iot', 7),\n",
       " ('related', 7),\n",
       " ('thermal', 7),\n",
       " ('area', 6),\n",
       " ('hvacs', 6),\n",
       " ('sensor', 6),\n",
       " ('degree', 6),\n",
       " ('domain', 6),\n",
       " ('control', 6),\n",
       " ('solutions', 5),\n",
       " ('particularly', 5),\n",
       " ('contribute', 5),\n",
       " ('longterm', 5),\n",
       " ('perform', 5),\n",
       " ('customer', 5),\n",
       " ('interview', 5),\n",
       " ('formulate', 5),\n",
       " ('problem', 5),\n",
       " ('generate', 5),\n",
       " ('laboratory', 5),\n",
       " ('potential', 5),\n",
       " ('project', 5),\n",
       " ('idea', 5),\n",
       " ('phd', 5),\n",
       " ('min', 5),\n",
       " ('demonstrate', 5),\n",
       " ('industrialization', 5),\n",
       " ('excellent', 5),\n",
       " ('skills', 5),\n",
       " ('independently', 5),\n",
       " ('good', 5),\n",
       " ('digitalization', 5),\n",
       " ('electrical', 5),\n",
       " ('modelling', 5),\n",
       " ('software', 5)]"
      ]
     },
     "execution_count": 1,
     "metadata": {},
     "output_type": "execute_result"
    }
   ],
   "source": [
    "#!/usr/bin/env python3\n",
    "# -*- coding: utf-8 -*-\n",
    "\"\"\"\n",
    "Created on Wed Dec  9 15:10:56 2020\n",
    "\n",
    "@author: cemdogansahin\n",
    "\"\"\"\n",
    "\n",
    "\n",
    "import datetime\n",
    "import string\n",
    "import pandas as pd\n",
    "from nltk.corpus import stopwords\n",
    "\n",
    "\n",
    "\n",
    "def importText(name):\n",
    "    file = open(name, \"r\")\n",
    "    text = \"\"\n",
    "    for line in file.readlines():\n",
    "        text = text + \" \" + line\n",
    "    file.close()\n",
    "    return text\n",
    "\n",
    "def countWords(in_text):\n",
    "    # counts the words in the text and returns a dictionary containing this information\n",
    "    firstList = in_text.lower().split()\n",
    "    #secondList = [x.strip(PUNCT) for x in firstList]\n",
    "    wordDict = {}\n",
    "    for elm in firstList:\n",
    "        elm_cleaned = cleanWord(elm)\n",
    "        if elm_cleaned not in wordDict.keys():\n",
    "            wordDict[elm_cleaned] = 1            \n",
    "        else:\n",
    "            wordDict[elm_cleaned] += 1\n",
    "    return wordDict\n",
    "            \n",
    "def frequentWords(aDict,frequency):\n",
    "    insignificant_words = stopwords.words('english')\n",
    "    keys = list(aDict.keys())    \n",
    "    frequents = {}\n",
    "    for word in keys:\n",
    "        if aDict[word] >= frequency and word not in insignificant_words:\n",
    "            frequents[word] = aDict[word]\n",
    "    return frequents\n",
    "            \n",
    "def cleanWord(aString):\n",
    "    out = str()\n",
    "    for elt in aString.strip(string.punctuation):       \n",
    "        if elt in string.ascii_lowercase:\n",
    "            out += elt         \n",
    "    return out\n",
    "\n",
    "def analyzeText(text):    \n",
    "    countDict = countWords(text)\n",
    "    freqWords = frequentWords(countDict, 5)\n",
    "    return countDict,freqWords\n",
    "\n",
    "\n",
    "f = open('linkedin_job.txt')\n",
    "names = f.read()\n",
    "\n",
    "        \n",
    "D, FW = analyzeText(names)\n",
    "sorted(FW.items(), key=lambda item: item[1],reverse=True)\n",
    "\n"
   ]
  },
  {
   "cell_type": "code",
   "execution_count": 1,
   "metadata": {},
   "outputs": [
    {
     "data": {
      "text/plain": [
       "[10, 9, 8, 7, 6, 5, 4, 3, 2, 1]"
      ]
     },
     "execution_count": 1,
     "metadata": {},
     "output_type": "execute_result"
    }
   ],
   "source": [
    "list(reversed(range(1,11)))"
   ]
  },
  {
   "cell_type": "code",
   "execution_count": 2,
   "metadata": {},
   "outputs": [
    {
     "data": {
      "text/plain": [
       "-0.9589242746631385"
      ]
     },
     "execution_count": 2,
     "metadata": {},
     "output_type": "execute_result"
    }
   ],
   "source": [
    "from math import sin\n",
    "\n",
    "sin(5)"
   ]
  },
  {
   "cell_type": "code",
   "execution_count": null,
   "metadata": {},
   "outputs": [],
   "source": []
  }
 ],
 "metadata": {
  "kernelspec": {
   "display_name": "base",
   "language": "python",
   "name": "python3"
  },
  "language_info": {
   "codemirror_mode": {
    "name": "ipython",
    "version": 3
   },
   "file_extension": ".py",
   "mimetype": "text/x-python",
   "name": "python",
   "nbconvert_exporter": "python",
   "pygments_lexer": "ipython3",
   "version": "3.11.3"
  },
  "orig_nbformat": 4
 },
 "nbformat": 4,
 "nbformat_minor": 2
}
